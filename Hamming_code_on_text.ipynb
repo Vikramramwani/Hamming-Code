{
  "nbformat": 4,
  "nbformat_minor": 0,
  "metadata": {
    "colab": {
      "name": "Hamming_code_on_text.ipynb",
      "provenance": [],
      "collapsed_sections": []
    },
    "kernelspec": {
      "name": "python3",
      "display_name": "Python 3"
    }
  },
  "cells": [
    {
      "cell_type": "code",
      "metadata": {
        "id": "sh4PuclsCyiO"
      },
      "source": [
        "import numpy as np\n",
        "from functools import reduce\n",
        "import operator as op\n",
        "import random"
      ],
      "execution_count": null,
      "outputs": []
    },
    {
      "cell_type": "code",
      "metadata": {
        "id": "NtRq52-FGNWm"
      },
      "source": [
        "#Functions\n",
        "#Function to convert binary bits into eight bit binary\n",
        "def eightBitBinary(binary_digit):\n",
        "    lis = []\n",
        "    l = 0\n",
        "    for i in range(8):\n",
        "        if i >= 8 - len(binary_digit):\n",
        "           lis.append(int(binary_digit[l]))\n",
        "           l += 1\n",
        "        else:\n",
        "            lis.append(0)\n",
        "    return lis\n",
        "\n",
        "# Function to check if the number is power of two\n",
        "def isPowerOfTwo(n):\n",
        "    if n == 0:\n",
        "        return False\n",
        "    while n != 1:\n",
        "        if n % 2 != 0:\n",
        "            return False\n",
        "        n = n // 2\n",
        "    return True\n",
        "\n",
        "#Function to count number of ones\n",
        "def no_of_ones(n):\n",
        "  count = 0\n",
        "  while n:\n",
        "      count += n & 1\n",
        "      n >>= 1\n",
        "  return count\n",
        "\n",
        "#Function to convert binary to decimal\n",
        "def binToDec(n):\n",
        "  temp = n\n",
        "  dec = 0\n",
        "  base = 1\n",
        "  while temp:\n",
        "    last = temp % 10\n",
        "    temp = int(temp/10)\n",
        "    dec += last * base\n",
        "    base = base * 2\n",
        "  return dec\n",
        "\n",
        "#Function to extract 8 bits from array\n",
        "def divide(lis):\n",
        "  for i in range(0,len(lis),8):\n",
        "    yield lis[i:i + 8]\n",
        "\n",
        "#Function to extract binary message from encoded message\n",
        "def extract(bits):\n",
        "  temp = []\n",
        "  for i, bit in enumerate(bits):\n",
        "    if not isPowerOfTwo(i) and i != 0:\n",
        "      temp.append(bit)\n",
        "  new = list(divide(temp))\n",
        "  return new\n",
        "\n",
        "#Function to convert binary message to text and returns it\n",
        "def display(new):\n",
        "  binary_num = 0\n",
        "  char_list = []\n",
        "  message = \"\"\n",
        "  for i in range(len(new)):\n",
        "    binary_num = int(\"\".join(map(str,new[i])))\n",
        "    decimal = binToDec(binary_num)\n",
        "    char_list.append(chr(decimal))\n",
        "  for char in char_list:\n",
        "    message += char\n",
        "  return message\n",
        "  "
      ],
      "execution_count": null,
      "outputs": []
    },
    {
      "cell_type": "code",
      "metadata": {
        "colab": {
          "base_uri": "https://localhost:8080/"
        },
        "id": "Xe1vnwv9ZN6N",
        "outputId": "86913c80-58fc-4b25-998d-f649ca8ccb35"
      },
      "source": [
        "!pip install SpeechRecognition pydub\n",
        "!pip install gTTs"
      ],
      "execution_count": null,
      "outputs": [
        {
          "output_type": "stream",
          "text": [
            "Collecting SpeechRecognition\n",
            "\u001b[?25l  Downloading https://files.pythonhosted.org/packages/26/e1/7f5678cd94ec1234269d23756dbdaa4c8cfaed973412f88ae8adf7893a50/SpeechRecognition-3.8.1-py2.py3-none-any.whl (32.8MB)\n",
            "\u001b[K     |████████████████████████████████| 32.8MB 109kB/s \n",
            "\u001b[?25hCollecting pydub\n",
            "  Downloading https://files.pythonhosted.org/packages/a6/53/d78dc063216e62fc55f6b2eebb447f6a4b0a59f55c8406376f76bf959b08/pydub-0.25.1-py2.py3-none-any.whl\n",
            "Installing collected packages: SpeechRecognition, pydub\n",
            "Successfully installed SpeechRecognition-3.8.1 pydub-0.25.1\n",
            "Collecting gTTs\n",
            "  Downloading https://files.pythonhosted.org/packages/5f/b9/94e59337107be134b21ce395a29fc0715b707b560108d6797de2d93e1178/gTTS-2.2.2-py3-none-any.whl\n",
            "Requirement already satisfied: click in /usr/local/lib/python3.7/dist-packages (from gTTs) (8.0.0)\n",
            "Requirement already satisfied: six in /usr/local/lib/python3.7/dist-packages (from gTTs) (1.15.0)\n",
            "Requirement already satisfied: requests in /usr/local/lib/python3.7/dist-packages (from gTTs) (2.23.0)\n",
            "Requirement already satisfied: idna<3,>=2.5 in /usr/local/lib/python3.7/dist-packages (from requests->gTTs) (2.10)\n",
            "Requirement already satisfied: certifi>=2017.4.17 in /usr/local/lib/python3.7/dist-packages (from requests->gTTs) (2020.12.5)\n",
            "Requirement already satisfied: chardet<4,>=3.0.2 in /usr/local/lib/python3.7/dist-packages (from requests->gTTs) (3.0.4)\n",
            "Requirement already satisfied: urllib3!=1.25.0,!=1.25.1,<1.26,>=1.21.1 in /usr/local/lib/python3.7/dist-packages (from requests->gTTs) (1.24.3)\n",
            "Installing collected packages: gTTs\n",
            "Successfully installed gTTs-2.2.2\n"
          ],
          "name": "stdout"
        }
      ]
    },
    {
      "cell_type": "code",
      "metadata": {
        "id": "aAkeYqKSf3vN"
      },
      "source": [
        "from gtts import gTTS\n",
        "import IPython\n",
        "import speech_recognition as sr"
      ],
      "execution_count": null,
      "outputs": []
    },
    {
      "cell_type": "code",
      "metadata": {
        "id": "cUci3JHOZUGl"
      },
      "source": [
        "filename = \"/content/original_file.wav\""
      ],
      "execution_count": null,
      "outputs": []
    },
    {
      "cell_type": "code",
      "metadata": {
        "id": "rUIP9fEqZWJ-"
      },
      "source": [
        "r = sr.Recognizer()"
      ],
      "execution_count": null,
      "outputs": []
    },
    {
      "cell_type": "code",
      "metadata": {
        "id": "nW_F4h5oZYAZ"
      },
      "source": [
        "with sr.AudioFile(filename) as source:\n",
        "    audio_data = r.record(source)\n",
        "    text = r.recognize_google(audio_data)"
      ],
      "execution_count": null,
      "outputs": []
    },
    {
      "cell_type": "markdown",
      "metadata": {
        "id": "KcgsodopI5-e"
      },
      "source": [
        "**COLLECTING AND STORING DATA**"
      ]
    },
    {
      "cell_type": "code",
      "metadata": {
        "colab": {
          "base_uri": "https://localhost:8080/"
        },
        "id": "NeGt2XGsDQDM",
        "outputId": "b7fd5c7e-33d8-4eef-b688-ec05b990fc8d"
      },
      "source": [
        "#Collecting data from user\n",
        "data = text\n",
        "print(\"Original data: \",data)\n",
        "list_of_char = [char for char in data]"
      ],
      "execution_count": null,
      "outputs": [
        {
          "output_type": "stream",
          "text": [
            "Original data:  I believe you're just talking nonsense\n"
          ],
          "name": "stdout"
        }
      ]
    },
    {
      "cell_type": "code",
      "metadata": {
        "colab": {
          "base_uri": "https://localhost:8080/"
        },
        "id": "9_FzbcqlDZ9g",
        "outputId": "c94097b1-20e6-4464-e071-dba5723350a6"
      },
      "source": [
        "#Convert data into binary data\n",
        "binary_data = []\n",
        "for i in list_of_char:\n",
        "    bin_num = bin(ord(i))[2:]\n",
        "    binary_data = binary_data + eightBitBinary(bin_num)\n",
        "print(\"Binary converted data\\n\",binary_data)"
      ],
      "execution_count": null,
      "outputs": [
        {
          "output_type": "stream",
          "text": [
            "Binary converted data\n",
            " [0, 1, 0, 0, 1, 0, 0, 1, 0, 0, 1, 0, 0, 0, 0, 0, 0, 1, 1, 0, 0, 0, 1, 0, 0, 1, 1, 0, 0, 1, 0, 1, 0, 1, 1, 0, 1, 1, 0, 0, 0, 1, 1, 0, 1, 0, 0, 1, 0, 1, 1, 0, 0, 1, 0, 1, 0, 1, 1, 1, 0, 1, 1, 0, 0, 1, 1, 0, 0, 1, 0, 1, 0, 0, 1, 0, 0, 0, 0, 0, 0, 1, 1, 1, 1, 0, 0, 1, 0, 1, 1, 0, 1, 1, 1, 1, 0, 1, 1, 1, 0, 1, 0, 1, 0, 0, 1, 0, 0, 1, 1, 1, 0, 1, 1, 1, 0, 0, 1, 0, 0, 1, 1, 0, 0, 1, 0, 1, 0, 0, 1, 0, 0, 0, 0, 0, 0, 1, 1, 0, 1, 0, 1, 0, 0, 1, 1, 1, 0, 1, 0, 1, 0, 1, 1, 1, 0, 0, 1, 1, 0, 1, 1, 1, 0, 1, 0, 0, 0, 0, 1, 0, 0, 0, 0, 0, 0, 1, 1, 1, 0, 1, 0, 0, 0, 1, 1, 0, 0, 0, 0, 1, 0, 1, 1, 0, 1, 1, 0, 0, 0, 1, 1, 0, 1, 0, 1, 1, 0, 1, 1, 0, 1, 0, 0, 1, 0, 1, 1, 0, 1, 1, 1, 0, 0, 1, 1, 0, 0, 1, 1, 1, 0, 0, 1, 0, 0, 0, 0, 0, 0, 1, 1, 0, 1, 1, 1, 0, 0, 1, 1, 0, 1, 1, 1, 1, 0, 1, 1, 0, 1, 1, 1, 0, 0, 1, 1, 1, 0, 0, 1, 1, 0, 1, 1, 0, 0, 1, 0, 1, 0, 1, 1, 0, 1, 1, 1, 0, 0, 1, 1, 1, 0, 0, 1, 1, 0, 1, 1, 0, 0, 1, 0, 1]\n"
          ],
          "name": "stdout"
        }
      ]
    },
    {
      "cell_type": "code",
      "metadata": {
        "colab": {
          "base_uri": "https://localhost:8080/"
        },
        "id": "NpC6O9MmDiMj",
        "outputId": "eb9cebe8-8119-4e84-e95d-12aa96750cf2"
      },
      "source": [
        "#Calculation of parity bits\n",
        "par_bits = 0\n",
        "data_bits = len(binary_data)\n",
        "for i in range(data_bits):\n",
        "  if 2**i >= data_bits + i + 1:\n",
        "    par_bits += i\n",
        "    break\n",
        "total = data_bits + par_bits + 1\n",
        "print(\"Data bits = {}\\nParity bits = {}\\nTotal bits = {}\".format(data_bits,par_bits,total))"
      ],
      "execution_count": null,
      "outputs": [
        {
          "output_type": "stream",
          "text": [
            "Data bits = 304\n",
            "Parity bits = 9\n",
            "Total bits = 314\n"
          ],
          "name": "stdout"
        }
      ]
    },
    {
      "cell_type": "code",
      "metadata": {
        "colab": {
          "base_uri": "https://localhost:8080/"
        },
        "id": "5VZbKNEqDr7y",
        "outputId": "1b0accd4-a620-43df-d629-67d8b4afa3ff"
      },
      "source": [
        "#Intializing array\n",
        "bits = np.zeros(total, dtype=int)\n",
        "print(bits)"
      ],
      "execution_count": null,
      "outputs": [
        {
          "output_type": "stream",
          "text": [
            "[0 0 0 0 0 0 0 0 0 0 0 0 0 0 0 0 0 0 0 0 0 0 0 0 0 0 0 0 0 0 0 0 0 0 0 0 0\n",
            " 0 0 0 0 0 0 0 0 0 0 0 0 0 0 0 0 0 0 0 0 0 0 0 0 0 0 0 0 0 0 0 0 0 0 0 0 0\n",
            " 0 0 0 0 0 0 0 0 0 0 0 0 0 0 0 0 0 0 0 0 0 0 0 0 0 0 0 0 0 0 0 0 0 0 0 0 0\n",
            " 0 0 0 0 0 0 0 0 0 0 0 0 0 0 0 0 0 0 0 0 0 0 0 0 0 0 0 0 0 0 0 0 0 0 0 0 0\n",
            " 0 0 0 0 0 0 0 0 0 0 0 0 0 0 0 0 0 0 0 0 0 0 0 0 0 0 0 0 0 0 0 0 0 0 0 0 0\n",
            " 0 0 0 0 0 0 0 0 0 0 0 0 0 0 0 0 0 0 0 0 0 0 0 0 0 0 0 0 0 0 0 0 0 0 0 0 0\n",
            " 0 0 0 0 0 0 0 0 0 0 0 0 0 0 0 0 0 0 0 0 0 0 0 0 0 0 0 0 0 0 0 0 0 0 0 0 0\n",
            " 0 0 0 0 0 0 0 0 0 0 0 0 0 0 0 0 0 0 0 0 0 0 0 0 0 0 0 0 0 0 0 0 0 0 0 0 0\n",
            " 0 0 0 0 0 0 0 0 0 0 0 0 0 0 0 0 0 0]\n"
          ],
          "name": "stdout"
        }
      ]
    },
    {
      "cell_type": "code",
      "metadata": {
        "colab": {
          "base_uri": "https://localhost:8080/"
        },
        "id": "-sSTmqKrDz5C",
        "outputId": "c1fa36cd-4af3-478f-c1b0-118cb78f70b1"
      },
      "source": [
        "#Storing binary data into array\n",
        "l = 0\n",
        "power_of_two = [0, 1, 2]\n",
        "for i in range(3, total):\n",
        "  if isPowerOfTwo(i):\n",
        "    power_of_two.append(i)\n",
        "    continue\n",
        "  bits[i] = binary_data[l]\n",
        "  l += 1\n",
        "\n",
        "print(\"\\nBinary data storedd into array \",bits)\n",
        "print(\"Index number which are power of two (parity bits index) \",power_of_two)"
      ],
      "execution_count": null,
      "outputs": [
        {
          "output_type": "stream",
          "text": [
            "\n",
            "Binary data storedd into array  [0 0 0 0 0 1 0 0 0 1 0 0 1 0 0 1 0 0 0 0 0 0 0 1 1 0 0 0 1 0 0 1 0 1 0 0 1\n",
            " 0 1 0 1 1 0 1 1 0 0 0 1 1 0 1 0 0 1 0 1 1 0 0 1 0 1 0 0 1 1 1 0 1 1 0 0 1\n",
            " 1 0 0 1 0 1 0 0 1 0 0 0 0 0 0 1 1 1 1 0 0 1 0 1 1 0 1 1 1 1 0 1 1 1 0 1 0\n",
            " 1 0 0 1 0 0 1 1 1 0 1 1 1 0 0 1 0 0 0 1 1 0 0 1 0 1 0 0 1 0 0 0 0 0 0 1 1\n",
            " 0 1 0 1 0 0 1 1 1 0 1 0 1 0 1 1 1 0 0 1 1 0 1 1 1 0 1 0 0 0 0 1 0 0 0 0 0\n",
            " 0 1 1 1 0 1 0 0 0 1 1 0 0 0 0 1 0 1 1 0 1 1 0 0 0 1 1 0 1 0 1 1 0 1 1 0 1\n",
            " 0 0 1 0 1 1 0 1 1 1 0 0 1 1 0 0 1 1 1 0 0 1 0 0 0 0 0 0 1 1 0 1 1 1 0 0 0\n",
            " 1 1 0 1 1 1 1 0 1 1 0 1 1 1 0 0 1 1 1 0 0 1 1 0 1 1 0 0 1 0 1 0 1 1 0 1 1\n",
            " 1 0 0 1 1 1 0 0 1 1 0 1 1 0 0 1 0 1]\n",
            "Index number which are power of two (parity bits index)  [0, 1, 2, 4, 8, 16, 32, 64, 128, 256]\n"
          ],
          "name": "stdout"
        }
      ]
    },
    {
      "cell_type": "markdown",
      "metadata": {
        "id": "HbiitgWrHQzF"
      },
      "source": [
        "**ENCODING**"
      ]
    },
    {
      "cell_type": "code",
      "metadata": {
        "colab": {
          "base_uri": "https://localhost:8080/"
        },
        "id": "rJWN9rSGHN6z",
        "outputId": "bc4dc03d-349e-43ee-c036-ed124848aa3c"
      },
      "source": [
        "#Find the index number whose corresponding parity bit needs to be flipped\n",
        "index = reduce(op.xor, [i for i, bit in enumerate(bits) if bit])\n",
        "print(\"\\nNumber whose corresponding parity bit needs to be flipped: \",index)\n",
        "print(bin(index)[2:])"
      ],
      "execution_count": null,
      "outputs": [
        {
          "output_type": "stream",
          "text": [
            "\n",
            "Number whose corresponding parity bit needs to be flipped:  62\n",
            "111110\n"
          ],
          "name": "stdout"
        }
      ]
    },
    {
      "cell_type": "code",
      "metadata": {
        "colab": {
          "base_uri": "https://localhost:8080/"
        },
        "id": "4VIbsZWgH6fv",
        "outputId": "5fafd2b7-b59d-4ea3-be9d-249bcb7815f4"
      },
      "source": [
        "#Decide which parity bit needs to be changed\n",
        "parity_list = []\n",
        "indexNum = index\n",
        "for i in power_of_two:\n",
        "  count_one = no_of_ones(indexNum)\n",
        "  xor_op = op.xor(indexNum, i)\n",
        "  if no_of_ones(xor_op) < count_one:\n",
        "    indexNum = op.xor(indexNum, i)\n",
        "    parity_list.append(i)\n",
        "\n",
        "print(\"\\nParity bits that needs to be change for encoding: \",parity_list)"
      ],
      "execution_count": null,
      "outputs": [
        {
          "output_type": "stream",
          "text": [
            "\n",
            "Parity bits that needs to be change for encoding:  [2, 4, 8, 16, 32]\n"
          ],
          "name": "stdout"
        }
      ]
    },
    {
      "cell_type": "code",
      "metadata": {
        "id": "qvHJkgolIwNf"
      },
      "source": [
        "#Changing parity bits value\n",
        "for n in parity_list:\n",
        "  bits[n] = not bits[n]"
      ],
      "execution_count": null,
      "outputs": []
    },
    {
      "cell_type": "code",
      "metadata": {
        "colab": {
          "base_uri": "https://localhost:8080/"
        },
        "id": "Bkl1iUstS-dx",
        "outputId": "28381e06-b35c-4c9d-98d8-88ccffcf598f"
      },
      "source": [
        "#Check if message is encoded\n",
        "print(\"\\n0 indicates message is successfully encoded\")\n",
        "reduce(op.xor, [i for i, bit in enumerate(bits) if bit])"
      ],
      "execution_count": null,
      "outputs": [
        {
          "output_type": "stream",
          "text": [
            "\n",
            "0 indicates message is successfully encoded\n"
          ],
          "name": "stdout"
        },
        {
          "output_type": "execute_result",
          "data": {
            "text/plain": [
              "0"
            ]
          },
          "metadata": {
            "tags": []
          },
          "execution_count": 17
        }
      ]
    },
    {
      "cell_type": "markdown",
      "metadata": {
        "id": "lbrZ7VEnJCMI"
      },
      "source": [
        "Random noise"
      ]
    },
    {
      "cell_type": "code",
      "metadata": {
        "id": "F3M9vZURIVsB",
        "colab": {
          "base_uri": "https://localhost:8080/"
        },
        "outputId": "adefbdad-5f81-42c4-fd83-cc7b5c8f45f1"
      },
      "source": [
        "#Generate random noise\n",
        "integer = random.randrange(total)\n",
        "print(integer)"
      ],
      "execution_count": null,
      "outputs": [
        {
          "output_type": "stream",
          "text": [
            "113\n"
          ],
          "name": "stdout"
        }
      ]
    },
    {
      "cell_type": "code",
      "metadata": {
        "id": "XTXONZcfQwGD"
      },
      "source": [
        "#Flip a random bit\n",
        "bits[integer] = not bits[integer]"
      ],
      "execution_count": null,
      "outputs": []
    },
    {
      "cell_type": "code",
      "metadata": {
        "colab": {
          "base_uri": "https://localhost:8080/"
        },
        "id": "037znENVPRFI",
        "outputId": "effaf031-560b-4dd3-c7bb-7427daa49c28"
      },
      "source": [
        "#Display message with error\n",
        "error_message = display(extract(bits))\n",
        "print(error_message)"
      ],
      "execution_count": null,
      "outputs": [
        {
          "output_type": "stream",
          "text": [
            "I believe yougre just talking nonsense\n"
          ],
          "name": "stdout"
        }
      ]
    },
    {
      "cell_type": "code",
      "metadata": {
        "colab": {
          "base_uri": "https://localhost:8080/",
          "height": 75
        },
        "id": "etrZiTroHTs4",
        "outputId": "09409959-7295-4d6e-8cb5-9da01648d685"
      },
      "source": [
        "language= \"en\"\n",
        "mytext=error_message\n",
        "myobj=gTTS(text=mytext,lang=language,slow=False)\n",
        "myobj.save(\"new_file.wav\")\n",
        "IPython.display.Audio(\"/content/new_file.wav\")"
      ],
      "execution_count": null,
      "outputs": [
        {
          "output_type": "execute_result",
          "data": {
            "text/html": [
              "\n",
              "                <audio controls=\"controls\" >\n",
              "                    <source src=\"data:audio/x-wav;base64,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\" type=\"audio/x-wav\" />\n",
              "                    Your browser does not support the audio element.\n",
              "                </audio>\n",
              "              "
            ],
            "text/plain": [
              "<IPython.lib.display.Audio object>"
            ]
          },
          "metadata": {
            "tags": []
          },
          "execution_count": 23
        }
      ]
    },
    {
      "cell_type": "markdown",
      "metadata": {
        "id": "lmglBWhCXt2S"
      },
      "source": [
        "DETECTING AND CORRECTING ERROR"
      ]
    },
    {
      "cell_type": "code",
      "metadata": {
        "colab": {
          "base_uri": "https://localhost:8080/"
        },
        "id": "ObXlO-ixP9pj",
        "outputId": "19b33be3-da62-4141-fece-6f64c9275ac5"
      },
      "source": [
        "#Check which bit is wrong\n",
        "errorBit = reduce(op.xor, [i for i, bit in enumerate(bits) if bit])\n",
        "print(errorBit)"
      ],
      "execution_count": null,
      "outputs": [
        {
          "output_type": "stream",
          "text": [
            "113\n"
          ],
          "name": "stdout"
        }
      ]
    },
    {
      "cell_type": "code",
      "metadata": {
        "id": "SyWUZW1PQX81"
      },
      "source": [
        "#Correct the error bit by flipping it\n",
        "bits[errorBit] = not bits[errorBit]"
      ],
      "execution_count": null,
      "outputs": []
    },
    {
      "cell_type": "code",
      "metadata": {
        "colab": {
          "base_uri": "https://localhost:8080/"
        },
        "id": "E0a8F5FZT_gN",
        "outputId": "228d00d1-bc5c-4fd1-8362-86ac10c2f600"
      },
      "source": [
        "#Check if there is error remaining\n",
        "reduce(op.xor, [i for i, bit in enumerate(bits) if bit])"
      ],
      "execution_count": null,
      "outputs": [
        {
          "output_type": "execute_result",
          "data": {
            "text/plain": [
              "0"
            ]
          },
          "metadata": {
            "tags": []
          },
          "execution_count": 26
        }
      ]
    },
    {
      "cell_type": "code",
      "metadata": {
        "colab": {
          "base_uri": "https://localhost:8080/"
        },
        "id": "zK2M-RrjQsUl",
        "outputId": "e546c569-4104-4001-9142-c24cf4cf1fb1"
      },
      "source": [
        "#Display corrected message\n",
        "corrected_message = display(extract(bits))\n",
        "print(corrected_message)"
      ],
      "execution_count": null,
      "outputs": [
        {
          "output_type": "stream",
          "text": [
            "I believe you're just talking nonsense\n"
          ],
          "name": "stdout"
        }
      ]
    },
    {
      "cell_type": "code",
      "metadata": {
        "colab": {
          "base_uri": "https://localhost:8080/",
          "height": 75
        },
        "id": "SJGHpuDCHGZZ",
        "outputId": "0cff70c5-8487-4690-e688-86f31a63aec2"
      },
      "source": [
        "language= \"en\"\n",
        "mytext=corrected_message\n",
        "myobj=gTTS(text=mytext,lang=language,slow=False)\n",
        "myobj.save(\"new_file.wav\")\n",
        "IPython.display.Audio(\"/content/new_file.wav\")"
      ],
      "execution_count": null,
      "outputs": [
        {
          "output_type": "execute_result",
          "data": {
            "text/html": [
              "\n",
              "                <audio controls=\"controls\" >\n",
              "                    <source src=\"data:audio/x-wav;base64,//NExAARgbooAUMQAHOIACEL//66IiInoc5znOd/qc5ziCEIT///6nOc5//OQjfkI2c5ziCAgCAIAmD4Pg+D4IBjR4P8p/gQEMEAfD8HwICAIBj7YCcNQ+v4pOLr/6xz//NExA0VQcq8AY9oAAhGtwDYAAoAzAQsEJACb8G2Qy4F3CahfQgRifC9jzKBmbjMZmBxX5otNBabn3QOK/j0JQ0dBB1OgtdH/qYvm7tsiYsxX/8REv/eMGIk83ysolRd//NExAsVMZ68AdiIAK1ZZS67Ey4K7TMKB3RijpEtAVRdFykBEJRWxMkBIqXxCUW5EipMkyNNE2SSLpslnTVHSM/Qey1ldFJSi4fXoIP0PdvPWW5nt3+latj4DZzZCiLm//NExAkUAaa0AJ4alBMXmDllI5vPTwhJ217nEiTwcrPtWwmrc7uVPApzZ/+qYc/GsFYebJ62qUTH0iYm2ZnHqUPZFG5keetafWZ+yKq6z+ZqOVPqatIjQAoaqRMQQ0u5//NExAwT6ba4AI4alNHVkTvxvt1D6SnC7cXU517LGSOd39aZlLv/scfnmWrQF2WIqjSi68o+U/H89XSHjusvW0EtS0Ncy7MUlVKMdLoZqOy65+FdZAEHOUOT0CyIG3Tv//NExA8VobK0AMYQlFAAJEbDlVNBADY3+2FyLnblJFv1t/Izzec3I7OcocCGQAQ9oEoKh3CFm8yv+L16Cg1fgs36pvl5N97FadJKHpyUyp2W2LCJGv/dcckB1ReYf4Kk//NExAsSeRKoAMYScC9V3b+iFR1ghdZ/TWoG7jyPO9z8Y9Fu5IKrweQoANGokIWAMGt/WJt+LIt/jn/6x5AaeoOxF5Y8sFnqDvs8RQKDEHAgCmDBwa32hv8yGTQAYUBo//NExBQSEMJQAVxIABRkYyFKajqsuadGXg7asQC4s1N8pYCtgKKC46dHZXS03RpvJKqweCyg9/eK9HR/V///+rrVERY/LJPkxTAI+Dq8vhISgrE20axIopbtPvCzRBJN//NExB4X4dZEAZpoABksPoc+i1OzhxlEYMPfV1qlAvjLLhnU6rOt14yy4svqNHV+q2tOy1MedKuptnf7rZB2NCb2bunzZd7BO/qb9O75RXXcR5QCBcERxa8Dl4DBEBEH//NExBEWuc6kAZpoAANrlmYQQlgkRiaSKh5kmbhyQVYhlLQUS5fHuaF8LqHEFVTUgmh8lygbG6VP70KBuimm5d/qQam8+hpIL/92+51ElzAACj/l/lBA1rbortNYMVNZ//NExAkTigaoAdpoAMJSIEJ1Akvzq4IdIpyzSrZZtfyzyDZLUbEUH4+ktYqIVThn5V60PQfrNPKkH5806lNqT84/UYJJUicSqTOkb+s08z+UNVVuwDEcgiKjIPZAbKlp//NExA0QAgasAKNKmHWBKyMpJQdQkCOdBPHu4YxgkVNOlnUXvU3o+j+vmbwiKs2Pb383o3QDE3EQ543yka6GFPw3UZ+agiNC6bGOqzCaRwK+kxGI71F2M6Dbog8+ofYt//NExCASegakANQEmOLBYyPl1fRRfop/+///+paVCjOjfr/spSmkYrGY61sqsaRhIDZ/////Ksscplnwj6BBanqwCVAhywQsot4OSoYlGAaUCmA/CcFGp0jiDv1oev6P//NExCkSAgaYANREmN2////5UbhSevoV+ZyNQCBvujHegYO+GDhj/////hzXeZVQDciKgl2kbqYqGAujI5+ahIgGjO8SuIKkp3n/OYlioze8e8fGvTGtetNfP+9f///e//NExDQSkgaUANPEmOpFKQv//79yLKJ3TdFlawgIP/////oq1URagLSxcK3SLoFNFoM9zIZUd+omhzi0n3ICXwq0cIh/2UCgPDE5tIr44r93f+iAw8uJwCDL/z9Rc2oT//NExDwR6SasAKSQcJ9jXWBYwa/////sXf/93INBkaQeGFP19S9NptCIIl6CUU+z/V/GQnX5oDgYelBMJxePvNLCWnQUi96jo1DnM9PuY3oYY1Cg4xyIzUwffMrn/3lG//NExEcQqbq0AMqOlL0J9WMJLdjg6KcXngEl/QHv49+Z80Y6HEAKu1kyTA8l0VpCADzbcyDkEdqkTg9jX5j61FbeYE9tSA+D19MzNfTWbYpV9MdADpCxJposUB9lr1CZ//NExFcRyfawAMHamPnj5LzFb/z0Wv4Wfd7NFpQUDwHwHBYoUFB5gtDi4uMFRUciVO0eko16QrD7dkPKoIyEHunf/OxuCCBaCSDugKTDExW5wAAz6FN0I/k//9vP8nkp//NExGIRQbbAAJnQla6NJNpoiRhsUDxeZIeaKuQDiqxacfCfqty6+ZHajiSi9YeXtjotV53crtXZy4CdCwV0IfgDYyRFtRDZBAo2c3//5szvrP3pva3Zxa0JgoSqjFIm//NExHAR0cK8AIlSlU6Ezh9ZWmSts939a1MrP3no4eihY5hqkLZlzTXd4zzF/+dR0MUZNWs2SWlNf5gIAVth7ap7t1T2fQm5/dXiAkbQqoHDoJNLESqK0KM4hSFRNJNK//NExHsR8ba8AJiYlTHM2MYznlSnKPe5dTUKGKj4SY1ejEmq1zsoIfjfCaFWmS3ZqDrcv8h8NY8oEFNMR+djumPa2Ymr6NnK9acAiVAoSidWywCMSnTqqjgVVf/d/fK3//NExIYSebK4AMFSlda/9VbtSyR8O6pb0+4ZSg3pcSfmuPS5M6VC/lD3jWLyZQsEiRBlV1QQgS4QQwhFCcSrUGpEDvcD5d9qQI1BypXcxZ2kdVpHvQm2T4rONizE0nKd//NExI8R+ZKgAMrMlBGIvDsuR3jzgKdC4eKgZ8msnb//2bYrO80UmWlBCSH6mHq342M3bsywqWGlRGeQLsgsNEVjvQadGjW3rsbQjv2hurtFlP1P1MM9qqHGJN/Rs8M0//NExJoSQOaMAMDGcKFfVMWwrPwxgaHPi6TzH2/y9fN+7K2NWasuRTRFCUnNiBAhkjmpFdG0pFJ25OdZrF/xvLnCduQIUaB3KWEAy5BoqtzLDH//6MKauVEgqTHs6Y7W//NExKQReSaYAHiMcOKYSov4/W0CYRYzbKDXQePrzHz2yM47qO92KFnlhIRNIlCVdQBBShjgXfuIUVW3n6NqWqMS9IJcoSNeVZ6hv7DPn1cbAr5V/LajxOK/SNjADn4v//NExLEUwZqUANISlCR4O3J+RZowBdR7VFy0DhqhxM5ciwEACK5YN2UYaHw88F4gA2Uso7iimqmu4mvX9pntVswWGChJqxTR3VI+PF2N3tXn6lRGO/dgAXLG6FPU7Wah//NExLEUWc6YAMqSld8f/Cim+Va5/LCz7wxMmsqZUTdcs7+GTIY6rP4GsAQIgfATC9hkBWIVU05jv///7LU1DEUgbGVNdNdRYGXDOYHRIKhSOy5RvRMORZ3DU6Wa64yG//NExLITkc6oAMFQlUee0p3M/7iWfcoNYl/3GV6+opzCPjoUelHhFBAsS/Iq6qRRGrg+z29xMAzZ30bt/br2415Q8OfLuM2EHVgi1hK5VpiG4TBYeSCuTPBajuDKSSJK//NExLYTIZKsAMPUlTkFefbPnxeL2c7xyuZRFkuf7Xmfwx8pTXejiOllFlE6TspnC1NkfLFt5I+G2JYuqqh6nlTwx9lBYOliSpRGmigFrOeIUlhYCMBMzIRICAbTH0PF//NExLwVgdaYANYKmFiEHuMvyLYTErh3C5flNJjyGpFjjCjZfQXuoTedOoJgj9P5VQobjCDgs0bN+8ZZ77owCAFBGYRh6ZUQiAmVMPwNGRXHRYMRQJMDQJMDAHQhAQBN//NExLkTmOKYAMZecPAwBTAoC0Lb9xwotWtay36sz7Vr71NEiIHX5XyMb6+xiHUSPq/V/65fJJtO1nVe2JDv/dWwqd8nE8kFVPzIzMEEklfuxqki2mSn5qozMXL5oaqW//NExL0R4NZ4AN4ecbJdttjNYw5iXB7lElUzMdg8BGAVj/jgMSsvpoMnAgIlw9gto4AW4TkTNP/+gYGiBgXDQuNN0xtLhkeM4yRikmSQ0f/+cJRBBkG03N1cWAxS6McS//NExMgScMJMAV0QAPLxfMyebmTDKkZhuLgWCQOMIgsH3X////////v8IkzMTFddco6tFmBIIeVYw0kUHRAuOEYTUKhUIwFVBIPQqI4fhEIhp9g2c3IONFSkW6UVnUqn//NExNEhkyKkAY9oAeGPJGRqSU6mM0WUOFuYNBsMWxZSuiZB0TjBYeHIyzmJPJTLRWpjlFwSGT8F5jjVEFG8jMYkha4oROSqMtuV1cRyAdBriczf/+vm5Cv/bUp2cdq9//NExJ0dgt60AcdAAY0gAAOBo2zHjned7momzlHBIIUSLGEVd0qk0iQgjHFqT5OQzcJtFs1Dg+CY6BnihV154RRLWWrdlcS5VxXn/wQsEwmExBgiTIxKuFscBPiBbsvp//NExHoZAcqwAMMQlNW01RVf1KFeLQ6flx4onR4bwa/FMaz7QJMWMU/Grx2em1Sv1Yu5UEbn5xZfDwWLk7dLCseFCopOCQpSaB6qsG4dNmLaqEsdRlSEqIDCxZCpklej//NExGkc8e6oAM5SmVIM4jUba2C8xpCS8fgV8tVMQko83ni7hBGTGUNFuH5NdhVkCJ7Pqx91hvL7hPmFzhK1lfV6pGeTHLSs6Zk5CwsBjxUe3/L/5+WqGC2jnD101fKQ//NExEgRSaLIAGvGlBDCxoukRofAV6adXA+e+azRFdFpVXhK1hcJ8WsxQ/I+fMTLO2p1ya4h1VnVUm4bWN8ZVmxgICAiUCm6h8c+p8GQqWfEutENKm5IAkRLPUs1SetJ//NExFUSSU64AIvGlCQkMJCS0+2vE0QyQNZefz/+9T1X//6fO09rN/oRXoyno/V6uRpzkJ05GOejTnnc6MpzuhDi4HgDoFV/C//5NihvP5/0gb/uf/1/utf/T0t1KZnL//NExF4RCtq4AGhEueu9lvrYwutVRjsxTREWVyMgNogs7MdXO6HWpSGYwiacQUqEMqC6xXkhAcr5f/+Trr//iDlX///+9P/9d+adnYpmV3toVTuhaMi3srjiHIe1ZHRh//NExGwQ2u68ABBKuQYziMii4qqmjCuggIKgkOUKditHFO5hpH6D0YUk/r///n////9P/+/RdymaYxlR5UOWvMaLKKnRylGHmK92GoYeyHMHYtFyCxWQwG2HoHVR2Fhw//NExHsRQxbAAAhKuZlMjiYuYYLKHRAPCYspRi9BKii6MgAM////////////////Y5c3zW9FZHU05VRSKHP2Q6ah41PGpFDxqPFxqcOtNGrHGnscOkRsXNqaPElNQuEJ//NExIkR0wq4AABKuXGrNmleTFRUldacHotY9M3Z1WMgJd/EuPcvnMzIlB6htBW+UEzQ0AN0NoWY//Wbn2NyCPYKsH8Qn5TQrUgJcMOOQdolwyf7dbuHkexQEbEzHwE8//NExJQSWt6MAUU4Af+yZug26YK4BeANgbDEBOApYDoAl////2Ni4bsYCACIGDKB0c5Kf//tZv/JQvgtZsMOOUvIhzFoH80AMoSNdmhPkOcX0GFiWr6XfTUK2rbkVKJM//NExJ0g8yKIAY9oAbqdH6iYKh/MlJK+g7Oam3zH8xIaKBHOFqEOF7WYrSKJl/C5ABsBYSCFCbE4hyYGxkXIEK2MSKkcXjM9qr+F/Q1aRYWcH7Gw6hcwrVEkDVEmaLal//NExGwiOt6AAY+QAC2//iExXEchikdpsLlIKQJEtlYwJLWcUlRSdcxUnOscvm+qRX/YwcVLn/30whdbpqYTsKIGW/Q3D6jJkUJr/yiT4guOMn//yiQdRsiX//2YnBZg//NExDYfwyqAAZiYALgD0A2woiEv//ppgAlCzZoXEy2oSgB3b//9/wFBixh8hdKApgAgAscBueLGRQOX///7f+K4OwWAUmIBhewUmKXBscJAigeuVzcJCZfiF/NgsrJ///NExAoTKoq8AcEoAPfog1977yf+mqoboZXX3KUpUZA+KsBmKUxWGGMxlLDqzKUqmGjg8pSytVjIZSoYytLMZW6GvNER0qCqkVPWCqsqsJ379JGxBI/IfWSUtmOQ53Js//NExBAViYqkAMYMlAWwS4t34iDThh6lK+6EuF25ihghxNVJLLnfyz7SbldNjbkehrlU2RPbW7Z2z29+1Xhxm7e9s//jY70dMJkxQk7qW7a6EQsqsb1VJWJT0le1Ehas//NExAwVUaasAMZKlB2XtGMmF9aSkl4tSLPSyWYBhItWyORzIqQNEPZfqp2Mml/6o4Y1/0NS9x1KihGop22O/AiJMzpUibjn1ECEQwYdjx4oSImXeyXqbYgQPsrmDnA+//NExAkReTK4AJYacMVfwvtmHh4Y1kEQL3F9UDOjmhV05dmEi2KG54qCaksnRUYvWsmm+pJuki/MU+ZMhuUEBgj21MLAyBgZDNdtIxAICWorDRTdCqGhYqcywzFBkr56//NExBYSqZa4AIZGlPU4MVAYcLsaXiW1Uvo8a7swxLP/Kmsf/wX+xOfGr/snhhxBkGFBQM9TROrp6k77GQRCKjla5mJABWJVXIwLLX3nXTTLoxX9zIXUEKkdiXs4fSf1//NExB4RIM6wAJ4ScIVJaCW9IAgBR36utv29QxqDu+WvBkXBk2oInRV9IaiMGaW/2Hxoyq9ijcUEuHXEllSRcDWCDHlFq2i2pX62nVgmjMMjRLdSWFTWiEPixMQsEzUj//NExCwQiLKUAMvSTMDWdo+xYNPWCrHnXiL92IgaiXywKxLVVkXyFAgFCCxM7X01Qtv4mCQwGJMvdWIuK+q7X8pKaPRrHKrhTdNmWqsEwCoyUqGTgmThKpKgkZHtZdFf//NExDwSEMJAAVpIAJL091np1+V1f+v/+tViDqHz+/A2GhB+3wOE3L5Jm5IlwZvTJM3jSSI4jX6aZKIm5Kmh0TEbPxhCgmHMRN1hWh4DZGBIH8cjOXDSgF5JpqgSJdS///NExEYY4lqYAYloAOh6b00WSU8vG3/9Omnf7JGxfSP1OAf/d+VcWniRFYommgCFRcUXIkThDM87r79ncj+//1q2xz5p0QWDwGAVhI5TKRR51M4fQYdxEwdLgmVeZGIM//NExDUSCVagAckoALjx0caeIThU8LPXDy2dt/Te1ccqq0krZidRosNeUWOAlKGdsMAkA8OdX9Me8DP8P7y/t8JPCf9ele9/TpKEDSgnC9MIInzShMLkiweDbpzFIGZn//NExD8SaUaoAMPQccdr+2ZGR7Cdyfvl/8E7yhW9saRrszz4Es7PwxqEK4UfML6NofzdT+WPx51kRsSKxqUoxdOkT7ooHXc5b8K37H+i/1Ldqm7tE0bw+eD/crd51+TL//NExEgRueKwAMHWmXWJCsym8JWJSkG6cyqw4gAwPMLcbCQ0ePfbR/++zT/ajDhrBkAo1xoLUlgbHXAtc5Tdd3UNP/UNaKzIWSakQwbpJVk1uWJWwUFiDoUafpjQyUKt//NExFQRKaasAMHQlSMJMIHwUSdy2gxUptuJUcGfCHhHhJ5NuHxCif1tr+TX9XmMbKVDGcBChlEhAICFWUv5uVuvMasMxgQEBCxAksooxVVKwpZRMHyn61Lk8VVo4QSi//NExGIUqcKQANvElLaR1MMIWp5zAjcGAsfgqna7NJVL+vbiLXZH+pVTc/lXv6rXOeUr//tyv////62FzCwfCAwBh4sCCJQbQ71O////rydtY+r8KZWQ/wGRFno8YQzG//NExGIVEcKEAN4KlOgnFOrLAokxbUgigQV1tqK3PoFQhrjaGvOXxEe18kWvxErXnbt/+RS7f///zpggqGIEFmgt/p/////R+XUqHI+lbKAaWukQWAqErWgF6SJIfi+A//NExGAR+bKEANvElFEz4lXj6iagD1vP1+b/E9P7TZw2XvvAj//6FTP////vJHqcyAhAOEDjf3////ZRSrMvlDPzln5cb7sjMTUioZIGJiLonxYAgNBzBkeOQEoWXaRF//NExGsR6bKEANvKlFjpsVJoy5RiqGcLCQca/rp//6CTZD1f///RmOND4dODAqsIZD9V7+Whvz2X6B1wHl4onDMKDiV7i+wxFL2Zceny+A2Cb7Qu/b/3TbS7lJZFnzUs//NExHYSKbqIANsKlJZvQMDf+f218OIocE1g4hZ/O1XbY5DwM5TR/R/gatRTAPJXVEtFhNqwaUc210iKej/kCqlr3ghmj/nlLaeb+7COUf8aCQlH7wikJZ72MTL/rysp//NExIASmaKsAMYEldXY5wFBA+LnESRwQ/0ZcDgAmabclnv51lgE+GYRUQ0N+PYroYkkH2cFJ28o6XtbenvVyoZKyKeoauSEY5MCd+32Zlvf/Gourdf//oY6QEYY7hh2//NExIgS+U64AIvKlTqVUIVHIMJO59bqBCQKws4XASMtPYSNLirq6zlJPvI6mKX7t5qHAZYOJLLr+sBy5rKtX79WzLOeYxPT2//XeUhxAwDB8IByJHExcw0QAcPuTgK1//NExI8ReZK8AJYElP/V0qCEs0le8zEIZCO+8ICC0PDV8dI8lj9sYLtw7bSNNVS8jQLdVlLc377qVT9j+9pbb6kapbdP/9ycVFg4KhEEBw4LjBYOg7iwMUULsZr+d4yI//NExJwSGYq0AJYKle8N86naivkmLf0C8g88XzxYUHTkNvCGiWSdFW1BIiCUtb+xZqtEhu1zcRhix/1Smf+5z/vP/eT3/5//k/Upo52hCoqJHRo+SUyKSAVtLHESrfaH//NExKYTqZKwAMYKlX+U1/ePucDDzY7oXRDuIE3hPs0QPmcbooEMpMcsKrAQq7JZVsLyLxPZSYyppTnxT94TcPy/uU6V6D/hrr+L/ir/i0p1B4QTyVJHK9nWaPxUWcRD//NExKoWQaasAM4SlMsaoxQwAfmZgVrf4X3UO2gWIjfI+QEI+s172yqsApRXWdlQ5zrOVWbaSyXn/7vXctWrK7ZN3eMrrWlqpfK3t/6t4eQ7GGgVvY1FKIvMhSC08Df+//NExKQWobKoAM4QlN/////6KsvypVrmbaocAyevKxwgIoOe5yRDTVO2wa6vzcm1sYPJ2OKDZdsktJK87t8335FLSxucj//+XRjORFQ4ZBhbB37rP///F4xOx5TAwYTP//NExJwTka6cAM4KlNbAeMoFYmlaZmgAJSOoCclDT8O0KjdVi06uv5ekkSKZQuGTvNzZ7Fz1EwskAmBUcwuhW9wnKXXlkCqxgdq9ZrsqCjC1ba5xBuUDapPorm/oaMNP//NExKARQcaMANrElLogUZBR6r3LuvjcQBgOB4HAPnKLnkIKfpL73y0Z7qIghDIMhkQ93ef9+926Z+vdggQt28k7iCZPY7EEM8XDs97dQ969sTswgQLJ3p6bZbRmkykD//NExK4RIM6AANpScNMySdkCERNwgeEA4WZBgAACDQeTPT8l3pkINEU7WZra37Ku/+liFkKl06z56bf/37ON0oTm69yx8u792q1fGx95e5TRz3v375XlSlXurl181MYk//NExLwf6xKYAMIMuYkUoNsOrs2zlyuKqVyhBRFiVKQYXYSVRmkKBSClmpH1EJcimOpGjJKfOiMAgVRLDIItkBtoMhWNWwHiMnXX0FyaxQaVpVUuH///rv////////////NExI8gUxqgAEmSvf6aV5qdf3k+2RZpGMysMUxxFFZg6KHHOlRgicSMHhVzkE0FSMHlEQ8JCIKg8XgqiYdEwgPILBT1AP+M9/O0vX39f////+/3znO92/+6FOY5JUKj//NExGAQ+xK0AAhKuT0uhHapUEUGHERzmUyq6uNOQVEzDBIhWAYXUHDRIeijwZhcwcFAMQaMHPWlHB7ADCszBuO/MLQTHe6/HEBgbqLM1V39+/BHcmT+Z///+n///ZNG//NExG8RmyKsAABKvH///fm/o+joa33VryvLM/UpaOpSmdSplASoqXbXwSVJtChpuAkxiTspCCiyaHUAdgsE2dg1iaviYIlTTrZ0Mm1wyz7J0BQjJnIECNMTmyc6Gz4o//NExHsQ+vawAGCEuSRi24QnOfqv/69XvhPe9nlXM2lz4gcIIPgNzhq6av5RdGmhGHHCLCRI5jG+HShpKxcql8EML0uC+HKsKxHq1vT7U5o2kyhhpAgXQICUFQuAMakS//NExIoVET6oAMPScIrQKQVnLN2E4XLL3PNfwVJ9pfVHDDto8LlHBRfsvXWZYCGiwa22xFjwTW2wnYbqN+Ow/MTstCTQ2RGyNR8nKptXqmoBQShMCxQPC8Hy2KfjcLzf//NExIgU2Ua8AHvScLLyS8E3JxYTwDD1dUd9ZVQH6f7tqkOiZhYAqAqAVAbQrvAU05wU9c4CWwUKjEgpVoQgY6cQ80KlVyiSlWv1qAsdhiiD7KDsUYBOQ+9kcomKYBmB//NExIcSCT7EAUxIAaIwV0GDMMZw5WEvpJymdyQx+KwbPzGr+FuO4d7/eNFW2+MzE9yvsfiOFPVu38rF/+fuif+7Oy/7NurSzczZzx5nzH+WUIQb8xUlAAmL6MVGRggR//NExJEhmdKkAZjAAJQq9f1DgXgLNhVZZ9pC1UN1XgpQJMNMfQ6jRBiBoFoXEb6DSb5NolmJedavNAy1eEfDDLGkRJQ/iTWQxKEnZplhXv4KvvaM9zVhf5/zy/krUb1X//NExF0iIe6gAZh4ALPLKW06bTvcQMw1A8o/V8ddmmq3TG5xMp2FaDJbMl46sZIl9+97xDnLHvlFIZiC5V2FKkCxGxdJMGA13l3hkDEWvK9a41txVgyR8oadM6tQlTMS//NExCcaMZaYAZh4AYmZ7D+Jaq6GxPkmAHg5jKcUgqaWYycI19ltZWGEzJ74x/bGdV1ZSj5Rt7bzmnxvfkn1XW/BrttTsJ8+vbb/bSlH6VQHecKJGDGIpDCDBxpoCroL//NExBEU4daMAZk4AeRwmjyIsk0mjolA5OACFhqpjiUDwgNShUT1V+TGgOwciURQg57igJA2jDqHzCdvz1PlyD+v57/zjBuqL5z/ZBoYTkUw9IyWYGhgQ8hkJIAEyIyg//NExBAWCap4AZo4AAChe8SsAoWAQTLmgwI89Y4KAuLDw2FAkCwosa9iaMD8UgNKi0sPA6cswPwnLq9FY0a/Oq5hhh1v/kz/zoBpBW6lCfLg/1fV9aosFzOTUxTcNDAh//NExAoVCY50AZpQAMyzMzyszqA2g41Y8yw0yJIFFo+gvCgUKdcXAUiMqPy5AF0FM7N48SiCoACECPYqEhOe4vC5IiY7zvsnnHD475///UwfWygYD+RGVU6/B8i9LuS1//NExAgUUxp8Ac8QAaoJzM7p9vGaz/W6UxeHbscOOEIRXbpezE0IRXq//Yn1P1+nX/+jKp6Np85//r9X530JU56nPqfrIz3IdCMHFv+RTgYttQMeQQIVcYBApHl//kKA//NExAkUAxqUABBOvQSaN4y/ad8lqepS/vksvrf1e1Nz1q6HqqaGN5ldX5rrvfmWuswscjNS1zHoXYcH0nGPImGlzD0FaINCAnEsWKNxuo8Oh4+XDv/z/KIZy8HP/z////NExAwQGxakAAhKud////9va/q7/39E/fq7yM9jnSyzNd1RDq7WPVlExIhXdziwuExdw5E3Gqp3QXQYQruHouDK/+r/+WioP/89/9b//+9/T/17JkWv+397kpos26JK//NExB4Qwx6sAAhKvGWhlRxWJldXVRhyIUXjhYcII6DBEwwVCg4MMMceYWGhMecYogSv+X/mad5aW3/bZLf////1//9FX9pbVWj9tb23YkinxViFKREahSu1RBndhYSQ//NExC4Sax6oAUEoAIJnDgDMUPFsLnMQWE0hoDCQfFyiwGDoTEBBhr3w/1a6VorEamqafRKM7WMif3+/rT7f/6/9LVXa1O992IpFdmHKl5NjELlLok2VzsJKLWXJCi3K//NExDcQ2yqwAYEQAKxXYQ/dQRkK6oFNEqoBBec3mf1NT8iJhAit/i0IoVh0F3/x85xx4q//6KaQnf/5zkTmyIWjv//3IoqhekI9NiqW////xBBJAZFQ1AXh6RD4ekog//NExEYRkqp4AYJQAGpYVCpE1KUllWYLCoNBomRRVQkopIUMVgqoiVBp4TUDIaWJQVCmOYpgu02yLhs2KJfHCn/buSFG7V0fvwC3xZ/b5urDOpGTMGOyrD8hWsvCaker//NExFIQUGn0AckYAFlQ6TUizCyOhsy+rNeRxKixZ41wdMhU6oSDmnWaDQqxHmWFtRoc86kkRWVCrmFaC1bt6mTXWtWZLSiJyq3WqiLFaEtKoNDRVLFByWl3+r/oqlis//NExGMRuRH0ABjGcM3KiJiUV0tUyWmz7KkpUV1qFisqK3u/6plqZm9oqxLvbus3b////n///skqTEFNRTMuMTAwqqqqqqqqqqqqqqqqqqqqqqqqqqqqqqqqTEFNRTMu//NExG8RyAG8AAjGlTEwMKqqqqqqqqqqqqqqqqqqqqqqqqqqqqqqqqqqqqqqqqqqqqqqqqqqqqqqqqqqqqqqqqqqqqqqqqqqqqqqqqqqqqqqqqqqqqqqqqqqTEFNRTMu//NExHoAAANIAAAAADEwMKqqqqqqqqqqqqqqqqqqqqqqqqqqqqqqqqqqqqqqqqqqqqqqqqqqqqqqqqqqqqqqqqqqqqqqqqqqqqqqqqqqqqqqqqqqqqqqqqqqTEFNRTMu//NExKwAAANIAAAAADEwMKqqqqqqqqqqqqqqqqqqqqqqqqqqqqqqqqqqqqqqqqqqqqqqqqqqqqqqqqqqqqqqqqqqqqqqqqqqqqqqqqqqqqqqqqqqqqqqqqqqTEFNRTMu//NExKwAAANIAAAAADEwMKqqqqqqqqqqqqqqqqqqqqqqqqqqqqqqqqqqqqqqqqqqqqqqqqqqqqqqqqqqqqqqqqqqqqqqqqqqqqqqqqqqqqqqqqqqqqqqqqqqTEFNRTMu//NExKwAAANIAAAAADEwMKqqqqqqqqqqqqqqqqqqqqqqqqqqqqqqqqqqqqqqqqqqqqqqqqqqqqqqqqqqqqqqqqqqqqqqqqqqqqqqqqqqqqqqqqqqqqqqqqqqTEFNRTMu//NExKwAAANIAAAAADEwMKqqqqqqqqqqqqqqqqqqqqqqqqqqqqqqqqqqqqqqqqqqqqqqqqqqqqqqqqqqqqqqqqqqqqqqqqqqqqqqqqqqqqqqqqqqqqqqqqqqTEFNRTMu//NExKwAAANIAAAAADEwMKqqqqqqqqqqqqqqqqqqqqqqqqqqqqqqqqqqqqqqqqqqqqqqqqqqqqqqqqqqqqqqqqqqqqqqqqqqqqqqqqqqqqqqqqqqqqqqqqqqJpHEQcyA//NExKwAAANIAAAAADiOwwEcl2WIa5SaMj4+SNsTh7aPmEaia0WnMN5ubknHjaBerlF+5ublIrDoJw7PuZ3qalJSk4uHb/9naaRWmhcW3//dnqaUgnG5//ms7PWL0M6T//NExKwAAANIAAAAAELCwbMP0GdD+ZNfzVUCBIGmi2GJHF4egRnukyRhDBwRkFAIhYUxRVvJCOa/Y+xYz0LgrS5wmBUHIoHqjbFZFQ98TtaUC+ac/eaf++Y/fv8Wprbz//NExKwAAANIAAAAAFTPyx2pkWldEp8srhC68AKQGdProCAAAnyAxfKaJTDq4d9C/5wRCQ6CGDsAKLLc84lKCOIXhCAzlOvXhH8R/9CND6L8BCpFD1F3ABooQBcAxM6Q//NExP8ZSiGUAGJMmBbR+nsPUtltQmrDGYWWgE4CgEoYU6xqAuAk1AQEFQaDqn/Wd4NfWdU/waBoO/I/5VxVU9luo8zX+VpMQU1FMy4xMDCqqqqqqqqqqqqqqqqqqqqq//NExOwiywnsAMvGuaqqqqqqqqqqqqqqqqqqqqqqqqqqqqqqqqqqqqqqqqqqqqqqqqqqqqqqqqqqqqqqqqqqqqqqqqqqqqqqqqqqqqqqqqqqqqqqqqqqqqqqqqqqqqqq//NExLMRoK34AHvGTKqqqqqqqqqqqqqqqqqqqqqqqqqqqqqqqqqqqqqqqqqqqqqqqqqqqqqqqqqqqqqqqqqqqqqqqqqqqqqqqqqqqqqqqqqqqqqqqqqqqqqqqqqqqqqq\" type=\"audio/x-wav\" />\n",
              "                    Your browser does not support the audio element.\n",
              "                </audio>\n",
              "              "
            ],
            "text/plain": [
              "<IPython.lib.display.Audio object>"
            ]
          },
          "metadata": {
            "tags": []
          },
          "execution_count": 29
        }
      ]
    }
  ]
}